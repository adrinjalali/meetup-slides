{
 "cells": [
  {
   "cell_type": "markdown",
   "metadata": {
    "slideshow": {
     "slide_type": "slide"
    }
   },
   "source": [
    "<center>\n",
    "<img src=./assets/PyDataLogoBerlin_BearOnly_Logo4x3.png width=400 style=\"display:inline\"/>\n",
    "</center>\n",
    "\n",
    "## Fabian Jahr (Algorithmic Trading), Kai Dierkes (Biophysics)\n",
    "\n",
    "# @pydataberlin"
   ]
  },
  {
   "cell_type": "markdown",
   "metadata": {
    "slideshow": {
     "slide_type": "slide"
    }
   },
   "source": [
    "<center>\n",
    "<img src=./assets/groups.png style=\"display:inline\"/>\n",
    "</center>"
   ]
  },
  {
   "cell_type": "markdown",
   "metadata": {
    "slideshow": {
     "slide_type": "slide"
    }
   },
   "source": [
    "<center>\n",
    "<img src=./assets/PyDataBerlinJan.png style=\"display:inline\"/>\n",
    "</center>"
   ]
  },
  {
   "cell_type": "markdown",
   "metadata": {
    "slideshow": {
     "slide_type": "slide"
    }
   },
   "source": [
    "# New Slack team for all Python users in Berlin\n",
    "## http://pythonberlin.eu.ngrok.io\n",
    "\n",
    "---"
   ]
  },
  {
   "cell_type": "markdown",
   "metadata": {
    "slideshow": {
     "slide_type": "slide"
    }
   },
   "source": [
    "# PyData Berlin 2017 conference\n",
    "\n",
    "### July 1.7. - 2.7. (tutorials 30.6.)\n",
    "### website is live and CFP is open"
   ]
  },
  {
   "cell_type": "markdown",
   "metadata": {
    "slideshow": {
     "slide_type": "slide"
    }
   },
   "source": [
    "# Toby Walsh\n",
    "\n",
    "## Professor of Artificial Intelligence at the University of New South Wales\n",
    "## Guest Professor at TU Berlin\n",
    "\n",
    "## _... how computers can interact with humans to optimise decision-making for the common good. He is also a passionate advocate for limits to ensure AI is used to improve, not hurt, our lives._"
   ]
  },
  {
   "cell_type": "markdown",
   "metadata": {
    "slideshow": {
     "slide_type": "slide"
    }
   },
   "source": [
    "<center>\n",
    "    <img src=./assets/Treskowallee-Gebaeude-A-HTW-Berlin-Alexander-Rentsch_small.jpg/>\n",
    "</center>"
   ]
  },
  {
   "cell_type": "markdown",
   "metadata": {
    "slideshow": {
     "slide_type": "slide"
    }
   },
   "source": [
    "<center>\n",
    "  <img src=./assets/TA_D_Audimax2013_10_copyright_Alexander_Rentsch.jpg/>\n",
    "</center>"
   ]
  },
  {
   "cell_type": "markdown",
   "metadata": {
    "slideshow": {
     "slide_type": "slide"
    }
   },
   "source": [
    "# We need ...\n",
    "\n",
    "# reviewers"
   ]
  },
  {
   "cell_type": "markdown",
   "metadata": {
    "slideshow": {
     "slide_type": "fragment"
    }
   },
   "source": [
    "# volunteers for the conference (registration, cloakroom ...) 25-30\n",
    "## free conference ticket\n",
    "## we expect you to work about 4-5 hours / day"
   ]
  },
  {
   "cell_type": "markdown",
   "metadata": {
    "slideshow": {
     "slide_type": "fragment"
    }
   },
   "source": [
    "# committee members\n",
    "## you need to have a few hours extra each week"
   ]
  },
  {
   "cell_type": "markdown",
   "metadata": {
    "slideshow": {
     "slide_type": "slide"
    }
   },
   "source": [
    "## we need the following people for our soon-to-be launched website!\n",
    "### web designers\n",
    "### front end developers\n",
    "### content creators (i.e. writing, blogging)"
   ]
  },
  {
   "cell_type": "markdown",
   "metadata": {
    "slideshow": {
     "slide_type": "slide"
    }
   },
   "source": [
    "<center>\n",
    "<img src=./assets/PyDataLogoBerlin_BearOnly_Logo4x3.png width=400 style=\"display:inline\"/>\n",
    "</center>\n",
    "\n",
    "# Thank you Zalando\n",
    "# @pydataberlin"
   ]
  }
 ],
 "metadata": {
  "celltoolbar": "Slideshow",
  "kernelspec": {
   "display_name": "Python 3",
   "language": "python",
   "name": "python3"
  },
  "language_info": {
   "codemirror_mode": {
    "name": "ipython",
    "version": 3
   },
   "file_extension": ".py",
   "mimetype": "text/x-python",
   "name": "python",
   "nbconvert_exporter": "python",
   "pygments_lexer": "ipython3",
   "version": "3.5.2"
  }
 },
 "nbformat": 4,
 "nbformat_minor": 1
}
