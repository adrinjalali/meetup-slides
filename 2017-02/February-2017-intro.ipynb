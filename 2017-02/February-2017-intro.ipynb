{
 "cells": [
  {
   "cell_type": "markdown",
   "metadata": {
    "slideshow": {
     "slide_type": "slide"
    }
   },
   "source": [
    "<center>\n",
    "<img src=./assets/PyDataLogoBerlin_BearOnly_Logo4x3.png width=400 style=\"display:inline\"/>\n",
    "</center>\n",
    "\n",
    "## Feature Engineering for Online Gambling (Tilman Lesch)\n",
    "## From Pandas to Dask (Björn Lengers)\n",
    "\n",
    "\n",
    "# @pydataberlin"
   ]
  },
  {
   "cell_type": "markdown",
   "metadata": {
    "slideshow": {
     "slide_type": "slide"
    }
   },
   "source": [
    "## Short talks and announcements by:\n",
    "\n",
    "### - WATTx\n",
    "### - Data Science for Good\n",
    "### - Clue\n",
    "### - NewYorker\n",
    "### - EnDoctus"
   ]
  },
  {
   "cell_type": "markdown",
   "metadata": {
    "slideshow": {
     "slide_type": "slide"
    }
   },
   "source": [
    "## One more announcement...\n",
    "### 3-day IoT Workshop next Fri-Sun by expert / entrepreneur Alexandra Deschamps-Sonsino\n",
    "### Tickets here: https://www.eventbrite.com/e/3-day-intensive-iot-workshop-tickets-30487440756 \n",
    "### Discount Code: DCPYDATA30"
   ]
  },
  {
   "cell_type": "markdown",
   "metadata": {
    "slideshow": {
     "slide_type": "slide"
    }
   },
   "source": [
    "<center>\n",
    "<img src=./assets/feb2017_groups.png style=\"display:inline\"/>\n",
    "</center>"
   ]
  },
  {
   "cell_type": "markdown",
   "metadata": {
    "slideshow": {
     "slide_type": "slide"
    }
   },
   "source": [
    "<center>\n",
    "<img src=./assets/feb2017_pydata_group.png style=\"display:inline\"/>\n",
    "</center>"
   ]
  },
  {
   "cell_type": "markdown",
   "metadata": {
    "slideshow": {
     "slide_type": "slide"
    }
   },
   "source": [
    "# Python Berlin Slack team: Join, Converse, Multiply\n",
    "## http://pythonberlin.eu.ngrok.io\n",
    "\n",
    "---"
   ]
  },
  {
   "cell_type": "markdown",
   "metadata": {
    "slideshow": {
     "slide_type": "slide"
    }
   },
   "source": [
    "# PyData Berlin 2017 conference 🎉\n",
    "\n",
    "### July 1.7. - 2.7. (tutorials 30.6.)\n",
    "### website is live: http://pydata.org/berlin2017/  and CFP is open\n",
    "### Coming Soon: \n",
    "### - first-time speakers & mentors meetup\n",
    "### - volunteer sign up "
   ]
  },
  {
   "cell_type": "markdown",
   "metadata": {
    "slideshow": {
     "slide_type": "slide"
    }
   },
   "source": [
    "# Barbara Plank\n",
    "\n",
    "## Assistant Professor of Computational Linguistics at CLCG University of Groningen, Netherlands\n",
    "\n",
    "## _... cross-domain and cross-language NLP including robust language technology, learning under sample selection bias, annotation bias, and generally, semi-supervised and weakly-supervised machine learning for NLP_"
   ]
  },
  {
   "cell_type": "markdown",
   "metadata": {
    "slideshow": {
     "slide_type": "slide"
    }
   },
   "source": [
    "<center>\n",
    "    <img src=./assets/barbara_plank_dolomiten_clip.png />\n",
    "</center>"
   ]
  },
  {
   "cell_type": "markdown",
   "metadata": {
    "slideshow": {
     "slide_type": "slide"
    }
   },
   "source": [
    "# We need ...\n",
    "\n",
    "# sponsors"
   ]
  },
  {
   "cell_type": "markdown",
   "metadata": {
    "slideshow": {
     "slide_type": "fragment"
    }
   },
   "source": [
    "# volunteers for the conference (registration, cloakroom ...) 25-30\n",
    "## Please email <info@pydata.berlin> with subject \"2017 Conference Voluneering\""
   ]
  },
  {
   "cell_type": "markdown",
   "metadata": {
    "slideshow": {
     "slide_type": "fragment"
    }
   },
   "source": [
    "# talk reviewers"
   ]
  },
  {
   "cell_type": "markdown",
   "metadata": {
    "slideshow": {
     "slide_type": "fragment"
    }
   },
   "source": [
    "# committee members\n"
   ]
  },
  {
   "cell_type": "markdown",
   "metadata": {
    "slideshow": {
     "slide_type": "slide"
    }
   },
   "source": [
    "## we need the following volunteers for our soon-to-be launched website!\n",
    "### web designers\n",
    "### front end and back end developers\n",
    "### content creators (i.e. writing, blogging)"
   ]
  },
  {
   "cell_type": "markdown",
   "metadata": {
    "slideshow": {
     "slide_type": "slide"
    }
   },
   "source": [
    "<center>\n",
    "<img src=./assets/PyDataLogoBerlin_BearOnly_Logo4x3.png width=400 style=\"display:inline\"/>\n",
    "</center>\n",
    "\n",
    "# Thank you SoundCloud!\n",
    "# @pydataberlin"
   ]
  }
 ],
 "metadata": {
  "celltoolbar": "Slideshow",
  "kernelspec": {
   "display_name": "Python 3",
   "language": "python",
   "name": "python3"
  },
  "language_info": {
   "codemirror_mode": {
    "name": "ipython",
    "version": 3
   },
   "file_extension": ".py",
   "mimetype": "text/x-python",
   "name": "python",
   "nbconvert_exporter": "python",
   "pygments_lexer": "ipython3",
   "version": "3.4.3"
  }
 },
 "nbformat": 4,
 "nbformat_minor": 1
}
