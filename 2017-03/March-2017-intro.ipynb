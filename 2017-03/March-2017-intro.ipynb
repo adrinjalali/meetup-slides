{
 "cells": [
  {
   "cell_type": "markdown",
   "metadata": {
    "slideshow": {
     "slide_type": "slide"
    }
   },
   "source": [
    "<center>\n",
    "<img src=./assets/PyDataLogoBerlin_BearOnly_Logo4x3.png width=400 style=\"display:inline\"/>\n",
    "</center>\n",
    "\n",
    "## Style Transfer using Deep Learning (Błażej Osiński)\n",
    "\n",
    "\n",
    "# @pydataberlin"
   ]
  },
  {
   "cell_type": "markdown",
   "metadata": {
    "slideshow": {
     "slide_type": "slide"
    }
   },
   "source": [
    "## Short talk and announcement by:\n",
    "\n",
    "### - Gregory Vial"
   ]
  },
  {
   "cell_type": "markdown",
   "metadata": {
    "slideshow": {
     "slide_type": "slide"
    }
   },
   "source": [
    "## One more announcement...\n",
    "### 22.4 March for Science\n",
    "### More info here: http://marchforscienceberlin.de/ "
   ]
  },
  {
   "cell_type": "markdown",
   "metadata": {
    "slideshow": {
     "slide_type": "slide"
    }
   },
   "source": [
    "<center>\n",
    "<img src=./assets/groups_0317.png style=\"display:inline\"/>\n",
    "</center>"
   ]
  },
  {
   "cell_type": "markdown",
   "metadata": {
    "slideshow": {
     "slide_type": "slide"
    }
   },
   "source": [
    "<center>\n",
    "<img src=./assets/PyData_Berlin_0317.png style=\"display:inline\"/>\n",
    "</center>"
   ]
  },
  {
   "cell_type": "markdown",
   "metadata": {
    "slideshow": {
     "slide_type": "slide"
    }
   },
   "source": [
    "# Python Berlin Slack team: Join, Converse, Multiply\n",
    "## http://pythonberlin.eu.ngrok.io\n",
    "\n",
    "---"
   ]
  },
  {
   "cell_type": "markdown",
   "metadata": {
    "slideshow": {
     "slide_type": "slide"
    }
   },
   "source": [
    "# PyData Berlin 2017 conference 🎉\n",
    "\n",
    "### July 1.7. - 2.7. (tutorials 30.6.)\n",
    "### website is live: http://pydata.org/berlin2017/  - CFP and tickets sale are open!!!11"
   ]
  },
  {
   "cell_type": "markdown",
   "metadata": {
    "slideshow": {
     "slide_type": "slide"
    }
   },
   "source": [
    "# Barbara Plank\n",
    "\n",
    "## Assistant Professor of Computational Linguistics at CLCG University of Groningen, Netherlands\n",
    "\n",
    "## cross-domain and cross-language NLP including robust language technology, learning under sample selection bias, annotation bias, and generally, semi-supervised and weakly-supervised machine learning for NLP_"
   ]
  },
  {
   "cell_type": "markdown",
   "metadata": {
    "slideshow": {
     "slide_type": "slide"
    }
   },
   "source": [
    "# Toby Walsh\n",
    "## Guest Professor @ TU Berlin and Professor of AI @ UNSW Sydney\n",
    "### Professor Walsh's research focuses on how computers can interact with humans to optimise decision-making for the common good. He is also a passionate advocate for limits to ensure AI is used to improve, not hurt, our lives. In 2015, Professor Walsh was behind an open letter calling for a ban on autonomous weapons or 'killer robots' that was signed by more than 20,000 AI researchers and high profile scientists, entrepreneurs and intellectuals."
   ]
  },
  {
   "cell_type": "markdown",
   "metadata": {
    "slideshow": {
     "slide_type": "slide"
    }
   },
   "source": [
    "# Veronica Valeros\n",
    "\n",
    "## hacker, researcher and intelligence analyst from Argentina. Her research has a strong focus on helping people and involves different areas from wireless and bluetooth privacy issues to malware, botnets and intrusion analysis. She is part of the Cognitive Threat Analytics team (Cisco Systems) and is also part of the core team of Security Without Borders, a collective of cyber security professionals who volunteer assisting people at risk and NGOs on cyber security issues."
   ]
  },
  {
   "cell_type": "markdown",
   "metadata": {
    "slideshow": {
     "slide_type": "slide"
    }
   },
   "source": [
    "# We need ...\n",
    "\n",
    "# sponsors"
   ]
  },
  {
   "cell_type": "markdown",
   "metadata": {
    "slideshow": {
     "slide_type": "fragment"
    }
   },
   "source": [
    "# volunteers for the conference (registration, cloakroom ...) 25-30\n",
    "## Please email <info@pydata.berlin> with subject \"2017 Conference Voluneering\""
   ]
  },
  {
   "cell_type": "markdown",
   "metadata": {
    "slideshow": {
     "slide_type": "fragment"
    }
   },
   "source": [
    "# talk reviewers"
   ]
  },
  {
   "cell_type": "markdown",
   "metadata": {
    "slideshow": {
     "slide_type": "fragment"
    }
   },
   "source": [
    "# committee members\n"
   ]
  },
  {
   "cell_type": "markdown",
   "metadata": {
    "slideshow": {
     "slide_type": "slide"
    }
   },
   "source": [
    "## we need the following volunteers for our soon-to-be launched website!\n",
    "### web designers\n",
    "### front end and back end developers\n",
    "### content creators (i.e. writing, blogging)"
   ]
  },
  {
   "cell_type": "markdown",
   "metadata": {
    "slideshow": {
     "slide_type": "slide"
    }
   },
   "source": [
    "<center>\n",
    "<img src=./assets/PyDataLogoBerlin_BearOnly_Logo4x3.png width=400 style=\"display:inline\"/>\n",
    "</center>\n",
    "\n",
    "# Thank you Bonial!\n",
    "# @pydataberlin"
   ]
  }
 ],
 "metadata": {
  "celltoolbar": "Slideshow",
  "kernelspec": {
   "display_name": "Python 2",
   "language": "python",
   "name": "python2"
  },
  "language_info": {
   "codemirror_mode": {
    "name": "ipython",
    "version": 2
   },
   "file_extension": ".py",
   "mimetype": "text/x-python",
   "name": "python",
   "nbconvert_exporter": "python",
   "pygments_lexer": "ipython2",
   "version": "2.7.12"
  }
 },
 "nbformat": 4,
 "nbformat_minor": 1
}
