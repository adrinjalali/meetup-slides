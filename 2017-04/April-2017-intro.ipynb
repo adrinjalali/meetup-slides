{
 "cells": [
  {
   "cell_type": "markdown",
   "metadata": {},
   "source": [
    "<center>\n",
    "<img src=./assets/PyDataLogoBerlin_BearOnly_Logo4x3.png width=400 style=\"display:inline\"/>\n",
    "</center>\n",
    "\n",
    "### Dr. Florian Wilhelm\n",
    "## Causal Inference and Propensity Score Methods\n",
    "\n",
    "### Ulrike Thalheim\n",
    "## Open Data Use Cases"
   ]
  },
  {
   "cell_type": "markdown",
   "metadata": {
    "slideshow": {
     "slide_type": "slide"
    }
   },
   "source": [
    "# @pydataberlin\n",
    "# github.com/pydataberlin/meetup-slides"
   ]
  },
  {
   "cell_type": "markdown",
   "metadata": {
    "slideshow": {
     "slide_type": "slide"
    }
   },
   "source": [
    "<center>\n",
    "<img src=./assets/groups0417.png style=\"display:inline\"/>\n",
    "</center>"
   ]
  },
  {
   "cell_type": "markdown",
   "metadata": {
    "slideshow": {
     "slide_type": "slide"
    }
   },
   "source": [
    "<center>\n",
    "<img src=./assets/PyData_Berlin0417.png style=\"display:inline\"/>\n",
    "</center>"
   ]
  },
  {
   "cell_type": "markdown",
   "metadata": {
    "slideshow": {
     "slide_type": "slide"
    }
   },
   "source": [
    "# News\n",
    "\n",
    "## PyData Berlin 2017 CfP - DEADLINE THIS SUNDAY\n",
    "## pydata.org/berlin2017/"
   ]
  },
  {
   "cell_type": "markdown",
   "metadata": {
    "slideshow": {
     "slide_type": "subslide"
    }
   },
   "source": [
    "# CfP Mentoring Event - THIS SATURDAY\n",
    "\n",
    "## If you want to sign up as a mentor or a mentee https://goo.gl/forms/SCpztNCrgmbDruwJ2\n",
    "\n",
    "\n",
    "### https://www.meetup.com/PyData-Berlin/events/239321063/"
   ]
  },
  {
   "cell_type": "markdown",
   "metadata": {
    "slideshow": {
     "slide_type": "subslide"
    }
   },
   "source": [
    "# PyData Berlin 2017 conference 🎉\n",
    "\n",
    "### July 1.7. - 2.7. (tutorials 30.6.)\n",
    "### website is live: http://pydata.org/berlin2017/  - CFP and tickets sale are open!!!"
   ]
  },
  {
   "cell_type": "markdown",
   "metadata": {
    "slideshow": {
     "slide_type": "slide"
    }
   },
   "source": [
    "# Barbara Plank\n",
    "\n",
    "## Assistant Professor of Computational Linguistics at CLCG University of Groningen, Netherlands\n",
    "\n",
    "### cross-domain and cross-language NLP including robust language technology, learning under sample selection bias, annotation bias, and generally, semi-supervised and weakly-supervised machine learning for NLP_"
   ]
  },
  {
   "cell_type": "markdown",
   "metadata": {
    "slideshow": {
     "slide_type": "slide"
    }
   },
   "source": [
    "# Toby Walsh\n",
    "## Guest Professor @ TU Berlin and Professor of AI @ UNSW Sydney\n",
    "### Professor Walsh's research focuses on how computers can interact with humans to optimise decision-making for the common good. He is also a passionate advocate for limits to ensure AI is used to improve, not hurt, our lives. In 2015, Professor Walsh was behind an open letter calling for a ban on autonomous weapons or 'killer robots' that was signed by more than 20,000 AI researchers and high profile scientists, entrepreneurs and intellectuals."
   ]
  },
  {
   "cell_type": "markdown",
   "metadata": {
    "slideshow": {
     "slide_type": "slide"
    }
   },
   "source": [
    "# Veronica Valeros\n",
    "\n",
    "### hacker, researcher and intelligence analyst from Argentina. Her research has a strong focus on helping people and involves different areas from wireless and bluetooth privacy issues to malware, botnets and intrusion analysis. She is part of the Cognitive Threat Analytics team (Cisco Systems) and is also part of the core team of Security Without Borders, a collective of cyber security professionals who volunteer assisting people at risk and NGOs on cyber security issues."
   ]
  },
  {
   "cell_type": "markdown",
   "metadata": {
    "slideshow": {
     "slide_type": "slide"
    }
   },
   "source": [
    "# Other news"
   ]
  },
  {
   "cell_type": "markdown",
   "metadata": {
    "slideshow": {
     "slide_type": "fragment"
    }
   },
   "source": [
    "### Jupyter Notebook v. 5.0"
   ]
  },
  {
   "cell_type": "markdown",
   "metadata": {
    "slideshow": {
     "slide_type": "fragment"
    }
   },
   "source": [
    "### Digital Future - May 12-13\n",
    "### https://science-match.tagesspiegel.de/the-digital-future-may-2017"
   ]
  },
  {
   "cell_type": "markdown",
   "metadata": {
    "slideshow": {
     "slide_type": "subslide"
    }
   },
   "source": [
    "# Python Berlin Slack\n",
    "## http://pythonberlin.eu.ngrok.io\n",
    "\n",
    "---\n",
    "\n",
    "# Berlin Machine Learning\n",
    "## http://berlinml.herokuapp.com/\n"
   ]
  },
  {
   "cell_type": "markdown",
   "metadata": {
    "slideshow": {
     "slide_type": "slide"
    }
   },
   "source": [
    "<center>\n",
    "<img src=./assets/PyDataLogoBerlin_BearOnly_Logo4x3.png width=400 style=\"display:inline\"/>\n",
    "</center>\n",
    "\n",
    "# Thank you all for coming, and thank you to eBay for hosting us!\n",
    "# @pydataberlin\n",
    "# github.com/pydataberlin/meetup-slides"
   ]
  }
 ],
 "metadata": {
  "celltoolbar": "Slideshow",
  "kernelspec": {
   "display_name": "Python 3",
   "language": "python",
   "name": "python3"
  },
  "language_info": {
   "codemirror_mode": {
    "name": "ipython",
    "version": 3
   },
   "file_extension": ".py",
   "mimetype": "text/x-python",
   "name": "python",
   "nbconvert_exporter": "python",
   "pygments_lexer": "ipython3",
   "version": "3.6.1"
  }
 },
 "nbformat": 4,
 "nbformat_minor": 1
}
