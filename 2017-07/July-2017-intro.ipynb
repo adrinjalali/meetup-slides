{
 "cells": [
  {
   "cell_type": "markdown",
   "metadata": {},
   "source": [
    "<center>\n",
    "<img src=./assets/PyDataLogoBerlin_BearOnly_Logo4x3.png width=400 style=\"display:inline\"/>\n",
    "</center>\n",
    "\n",
    "# Welcome to the July meetup\n",
    "\n",
    "### Viktor Tönköl : _Starting a pipeline - starting a relationship. Technical introduction of a PySpark data processing pipeline._\n",
    "\n",
    "\n",
    "### Dr. Pierre Garreau: _The Broker: an event detection engine for the maritime industry._"
   ]
  },
  {
   "cell_type": "markdown",
   "metadata": {
    "slideshow": {
     "slide_type": "slide"
    }
   },
   "source": [
    "# News"
   ]
  },
  {
   "cell_type": "markdown",
   "metadata": {
    "slideshow": {
     "slide_type": "subslide"
    }
   },
   "source": [
    "# Thank you for coming to the PyData Berlin conference\n",
    "## It was the largest PyData conference in Europe!   \n",
    "###   \n",
    "\n",
    "\n",
    "\n",
    "<center>\n",
    "<img src=./assets/conf_2017.jpg width=600 style=\"display:inline\"/>\n",
    "</center>"
   ]
  },
  {
   "cell_type": "markdown",
   "metadata": {
    "slideshow": {
     "slide_type": "subslide"
    }
   },
   "source": [
    "# Brand new website\n",
    "## __https://berlin.pydata.org/__\n",
    "\n",
    "- Share your idea for a talk\n",
    "- Read our blog"
   ]
  },
  {
   "cell_type": "markdown",
   "metadata": {
    "slideshow": {
     "slide_type": "subslide"
    }
   },
   "source": [
    "\n",
    "# PyData Warsaw conference\n",
    "## pydata.org/warsaw2017/\n",
    "\n",
    "<table><tr><td><img src='./assets/PyDataInfo.png'></td><td><img src='./assets/PyDataCFP.png'></td></tr></table>\n"
   ]
  },
  {
   "cell_type": "markdown",
   "metadata": {
    "slideshow": {
     "slide_type": "slide"
    }
   },
   "source": [
    "# Other news"
   ]
  },
  {
   "cell_type": "markdown",
   "metadata": {
    "slideshow": {
     "slide_type": "subslide"
    }
   },
   "source": [
    "# Python Berlin Slack\n",
    "## http://pythonberlin.eu.ngrok.io\n",
    "\n",
    "---\n",
    "\n",
    "# Berlin Machine Learning\n",
    "## http://berlinml.herokuapp.com/\n"
   ]
  },
  {
   "cell_type": "markdown",
   "metadata": {
    "slideshow": {
     "slide_type": "slide"
    }
   },
   "source": [
    "<center>\n",
    "<img src=./assets/PyDataLogoBerlin_BearOnly_Logo4x3.png width=400 style=\"display:inline\"/>\n",
    "</center>\n",
    "\n",
    "# Thank you all for coming, and thank you to Zeitgold for hosting us!\n",
    "# @pydataberlin\n",
    "# github.com/pydataberlin/meetup-slides\n",
    "# https://berlin.pydata.org/"
   ]
  }
 ],
 "metadata": {
  "celltoolbar": "Slideshow",
  "kernelspec": {
   "display_name": "Python 2",
   "language": "python",
   "name": "python2"
  },
  "language_info": {
   "codemirror_mode": {
    "name": "ipython",
    "version": 2
   },
   "file_extension": ".py",
   "mimetype": "text/x-python",
   "name": "python",
   "nbconvert_exporter": "python",
   "pygments_lexer": "ipython2",
   "version": "2.7.12"
  }
 },
 "nbformat": 4,
 "nbformat_minor": 1
}
