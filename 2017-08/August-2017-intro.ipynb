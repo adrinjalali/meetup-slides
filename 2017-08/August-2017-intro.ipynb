{
 "cells": [
  {
   "cell_type": "markdown",
   "metadata": {
    "slideshow": {
     "slide_type": "slide"
    }
   },
   "source": [
    "<center>\n",
    "<img src=./assets/PyDataLogoBerlin_BearOnly_Logo4x3.png width=400 style=\"display:inline\"/>\n",
    "</center>\n",
    "\n",
    "## Using python for sociolinguistic analysis (Lusy)\n",
    "## Using plotly dash in production (Vlad)\n",
    "\n",
    "\n",
    "# @pydataberlin"
   ]
  },
  {
   "cell_type": "markdown",
   "metadata": {
    "slideshow": {
     "slide_type": "slide"
    }
   },
   "source": [
    "## Checkout PyData Warsaw\n",
    "### 19-20 October\n",
    "### More info here: https://pydata.org/warsaw2017/"
   ]
  },
  {
   "cell_type": "markdown",
   "metadata": {
    "slideshow": {
     "slide_type": "slide"
    }
   },
   "source": [
    "<center>\n",
    "<img src=./assets/groups.png style=\"display:inline\"/>\n",
    "</center>"
   ]
  },
  {
   "cell_type": "markdown",
   "metadata": {
    "slideshow": {
     "slide_type": "slide"
    }
   },
   "source": [
    "<center>\n",
    "<img src=./assets/PyData_Berlin.png style=\"display:inline\"/>\n",
    "</center>"
   ]
  },
  {
   "cell_type": "markdown",
   "metadata": {
    "slideshow": {
     "slide_type": "slide"
    }
   },
   "source": [
    "<center>\n",
    "<img src=./assets/PyDataLogoBerlin_BearOnly_Logo4x3.png width=400 style=\"display:inline\"/>\n",
    "</center>\n",
    "\n",
    "# Thank you NewStore!\n",
    "# @pydataberlin"
   ]
  }
 ],
 "metadata": {
  "celltoolbar": "Slideshow",
  "kernelspec": {
   "display_name": "Python 3",
   "language": "python",
   "name": "python3"
  },
  "language_info": {
   "codemirror_mode": {
    "name": "ipython",
    "version": 3
   },
   "file_extension": ".py",
   "mimetype": "text/x-python",
   "name": "python",
   "nbconvert_exporter": "python",
   "pygments_lexer": "ipython3",
   "version": "3.6.0"
  }
 },
 "nbformat": 4,
 "nbformat_minor": 1
}
