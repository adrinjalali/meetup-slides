{
 "cells": [
  {
   "cell_type": "markdown",
   "metadata": {
    "slideshow": {
     "slide_type": "slide"
    }
   },
   "source": [
    "<center>\n",
    "<img src=./assets/PyDataLogoBerlin_BearOnly_Logo4x3.png width=600 style=\"display:inline\"/>\n",
    "<h2>https://berlin.pydata.org</h2>\n",
    "<h2>@pydataberlin (WIFI `OLX Guest` : `Ev3ryBody_W1ns!`)</h2>\n",
    "\n",
    "</center>"
   ]
  },
  {
   "cell_type": "markdown",
   "metadata": {
    "slideshow": {
     "slide_type": "slide"
    }
   },
   "source": [
    "# Our Speakers\n",
    "\n",
    "## Fabian Yamaguchi: Code Property Graphs - a modern queryable representation for code\n",
    "\n",
    "## Carmine Paolino: Structure Unstructured Data: product attribute extraction using Deep Learning, at scale\n",
    "\n",
    "# Lightning Talks ??\n"
   ]
  },
  {
   "cell_type": "markdown",
   "metadata": {
    "slideshow": {
     "slide_type": "subslide"
    }
   },
   "source": [
    "<center>\n",
    "<h1>http://pythonberlin.eu.ngrok.io/</h1>\n",
    "<img src=./assets/pythonberlin.png style=\"display:inline\"/>\n",
    "</center>"
   ]
  },
  {
   "cell_type": "markdown",
   "metadata": {
    "slideshow": {
     "slide_type": "slide"
    }
   },
   "source": [
    "<img src=./assets/pdberlin2018.png width=600 style=\"display:inline\"/>"
   ]
  },
  {
   "cell_type": "markdown",
   "metadata": {
    "slideshow": {
     "slide_type": "subslide"
    }
   },
   "source": [
    "## Workshops July 6th"
   ]
  },
  {
   "cell_type": "markdown",
   "metadata": {
    "slideshow": {
     "slide_type": "fragment"
    }
   },
   "source": [
    "## Talks July 7th - 8th"
   ]
  },
  {
   "cell_type": "markdown",
   "metadata": {
    "slideshow": {
     "slide_type": "fragment"
    }
   },
   "source": [
    "## Venue: Charité Campus, Berlin-Mitte"
   ]
  },
  {
   "cell_type": "markdown",
   "metadata": {
    "slideshow": {
     "slide_type": "slide"
    }
   },
   "source": [
    "# Keynotes\n",
    "\n",
    "**Andrada Fiscutean**<br/>Tehcnology Journalist (ArsTechnica, Vice Motherboard ...)"
   ]
  },
  {
   "cell_type": "markdown",
   "metadata": {
    "slideshow": {
     "slide_type": "fragment"
    }
   },
   "source": [
    "----\n",
    "\n",
    "**Marit Hansen**<br/>\n",
    "Data Protection Commissioner of Land Schleswig-Holstein and Chief of Unabhängiges Landeszentrum für Datenschutz"
   ]
  },
  {
   "cell_type": "markdown",
   "metadata": {
    "slideshow": {
     "slide_type": "fragment"
    }
   },
   "source": [
    "----\n",
    "\n",
    "**Elisa Celis**<br/>\n",
    "Senior Research Scientist @ EPFL<br/>\n",
    "Co-organizer for Fairness, Accountability & Transparency in Machine Learning 2018"
   ]
  },
  {
   "cell_type": "markdown",
   "metadata": {
    "slideshow": {
     "slide_type": "subslide"
    }
   },
   "source": [
    "## Go2PDBerlin"
   ]
  },
  {
   "cell_type": "markdown",
   "metadata": {
    "slideshow": {
     "slide_type": "slide"
    }
   },
   "source": [
    "<center>\n",
    "<img src=./assets/PyDataLogoBerlin_BearOnly_Logo4x3.png width=600 style=\"display:inline\"/>\n",
    "<h2>https://berlin.pydata.org</h2>\n",
    "<h2>@pydataberlin</h2>\n",
    "</center>"
   ]
  }
 ],
 "metadata": {
  "celltoolbar": "Slideshow",
  "kernelspec": {
   "display_name": "Python 3",
   "language": "python",
   "name": "python3"
  },
  "language_info": {
   "codemirror_mode": {
    "name": "ipython",
    "version": 3
   },
   "file_extension": ".py",
   "mimetype": "text/x-python",
   "name": "python",
   "nbconvert_exporter": "python",
   "pygments_lexer": "ipython3",
   "version": "3.6.4"
  }
 },
 "nbformat": 4,
 "nbformat_minor": 1
}
