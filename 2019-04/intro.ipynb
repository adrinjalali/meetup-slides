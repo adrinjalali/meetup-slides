{
 "cells": [
  {
   "cell_type": "markdown",
   "metadata": {
    "slideshow": {
     "slide_type": "slide"
    }
   },
   "source": [
    "<center>\n",
    "<img src=./assets/PyDataLogoBerlin_BearOnly_Logo4x3.png width=600 style=\"display:inline\"/>\n",
    "<h2>https://berlin.pydata.org</h2>\n",
    "<h2>@pydataberlin</h2>\n",
    "</center>"
   ]
  },
  {
   "cell_type": "markdown",
   "metadata": {
    "slideshow": {
     "slide_type": "slide"
    }
   },
   "source": [
    "<center>\n",
    "<img src=./assets/PyConDE_PyDataBer_circle_trans.png width=100 height=100 style=\"display:inline\"/>\n",
    "<h1>PyConDE & PyData Berin Conference</h1>\n",
    "<h2>9 - 13 October</h2>\n",
    "<h2>Tickets sale and CfP start 29th of April</h2>\n",
    "</center>"
   ]
  },
  {
   "cell_type": "markdown",
   "metadata": {
    "slideshow": {
     "slide_type": "slide"
    }
   },
   "source": [
    "<center>\n",
    "    <h1> PyData & PyCon Berlin 2019 Call for Proposals Mentoring Meetup </h1>\n",
    "    <h2> May 18 </h2>\n",
    "    <h2> @ ThoughtWorks </h2>\n",
    "</center>"
   ]
  },
  {
   "cell_type": "markdown",
   "metadata": {
    "slideshow": {
     "slide_type": "slide"
    }
   },
   "source": [
    "##  say hi to Wooga\n",
    "\n",
    "## Talk 1: 35 mins\n",
    "\n",
    "#### Title: Bokeh basics and some advanced features\n",
    "\n",
    "### Speaker:Dmitri Stepanov\n",
    "\n",
    "\n",
    "## Lightning Talks (5 mins each)\n",
    "\n",
    "### Speaker: Brandon Beckett\n",
    "\n",
    "### Speaker:  Philipp Rudiger \n",
    "\n",
    "## Python Quiz hosted by Matti"
   ]
  },
  {
   "cell_type": "markdown",
   "metadata": {
    "slideshow": {
     "slide_type": "slide"
    }
   },
   "source": [
    "<center>\n",
    "<h1>https://numfocus.org/code-of-conduct</h1>\n",
    "<img src=./assets/nf-coc-wide.png style=\"display:inline\"/>\n",
    "</center>"
   ]
  },
  {
   "cell_type": "markdown",
   "metadata": {
    "slideshow": {
     "slide_type": "slide"
    }
   },
   "source": [
    "<center>\n",
    "<h1>http://pythonberlinslack.herokuapp.com</h1>\n",
    "<img src=./assets/pythonberlin.png style=\"display:inline\"/>\n",
    "</center>"
   ]
  },
  {
   "cell_type": "markdown",
   "metadata": {
    "slideshow": {
     "slide_type": "slide"
    }
   },
   "source": [
    "<center>\n",
    "<img src=./assets/PyDataLogoBerlin_BearOnly_Logo4x3.png width=600 style=\"display:inline\"/>\n",
    "<h2>https://berlin.pydata.org</h2>\n",
    "<h2>@pydataberlin</h2>\n",
    "</center>"
   ]
  }
 ],
 "metadata": {
  "celltoolbar": "Slideshow",
  "kernelspec": {
   "display_name": "Python 3",
   "language": "python",
   "name": "python3"
  },
  "language_info": {
   "codemirror_mode": {
    "name": "ipython",
    "version": 3
   },
   "file_extension": ".py",
   "mimetype": "text/x-python",
   "name": "python",
   "nbconvert_exporter": "python",
   "pygments_lexer": "ipython3",
   "version": "3.6.5"
  }
 },
 "nbformat": 4,
 "nbformat_minor": 1
}
