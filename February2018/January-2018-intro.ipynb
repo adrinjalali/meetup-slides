{
 "cells": [
  {
   "cell_type": "markdown",
   "metadata": {
    "slideshow": {
     "slide_type": "slide"
    }
   },
   "source": [
    "<center>\n",
    "<img src=./assets/PyDataLogoBerlin_BearOnly_Logo4x3.png width=600 style=\"display:inline\"/>\n",
    "<h2>https://berlin.pydata.org</h2>\n",
    "<h2>@pydataberlin</h2>\n",
    "</center>"
   ]
  },
  {
   "cell_type": "markdown",
   "metadata": {
    "slideshow": {
     "slide_type": "slide"
    }
   },
   "source": [
    "\n",
    "## Dror Atariah - Moving from local machine to Dask cluster using Terraform\n",
    "\n",
    "## Jeremy Tuloup - p5.js in the Jupyter Notebook for custom interactive visualizations\n",
    "\n",
    "## Rudradeb Mitra - Predicting your next customer using Neural network\n",
    "\n",
    "\n"
   ]
  },
  {
   "cell_type": "markdown",
   "metadata": {
    "slideshow": {
     "slide_type": "slide"
    }
   },
   "source": [
    "<center>\n",
    "<h1>http://pythonberlin.eu.ngrok.io/</h1>\n",
    "<img src=./assets/pythonberlin.png style=\"display:inline\"/>\n",
    "</center>"
   ]
  },
  {
   "cell_type": "markdown",
   "metadata": {
    "slideshow": {
     "slide_type": "slide"
    }
   },
   "source": [
    "# PyDays Vienna\n",
    "\n",
    "## https://pydays.at/\n",
    "\n",
    "## 4 - 5 May 2018\n",
    "\n",
    "## Coding, Automation, WebDev, and (Data) Science"
   ]
  },
  {
   "cell_type": "markdown",
   "metadata": {
    "slideshow": {
     "slide_type": "subslide"
    }
   },
   "source": [
    "<center>\n",
    "<img src=./assets/pypie.jpg width=600 style=\"display:inline\"/>\n",
    "</center>"
   ]
  },
  {
   "cell_type": "markdown",
   "metadata": {
    "slideshow": {
     "slide_type": "subslide"
    }
   },
   "source": [
    "## What’ll it cost?\n",
    "\n",
    "# Nothing! Entry is free!"
   ]
  },
  {
   "cell_type": "markdown",
   "metadata": {
    "slideshow": {
     "slide_type": "subslide"
    }
   },
   "source": [
    "## https://pydays.at/.\n",
    "\n",
    "\n",
    "## https://www.pydays.at/cfp/ (until 21.03.2018)."
   ]
  },
  {
   "cell_type": "markdown",
   "metadata": {
    "slideshow": {
     "slide_type": "notes"
    }
   },
   "source": [
    "We are looking forward to again receiving numerous applications covering\n",
    "a wide range of different topics. Non-technical talks are welcome as well. \n",
    "There will be an additional track focusing on education/teaching/learning in IT.\n",
    "\n",
    "Not sure if/how you should apply?\n",
    "\n",
    "We offer mentorship for first time speakers, just get in touch with us and \n",
    "we will be happy to help. If you are looking for feedback concerning your\n",
    "talk-idea, drop us a mail.\n",
    "\n",
    "We look forward to seeing you in May. Please share this event with everyone \n",
    "you know who would be interested, the more the merrier!"
   ]
  },
  {
   "cell_type": "markdown",
   "metadata": {
    "slideshow": {
     "slide_type": "slide"
    }
   },
   "source": [
    "# PyData Berlin 2018\n",
    "\n",
    "## Conference July 6-8"
   ]
  },
  {
   "cell_type": "markdown",
   "metadata": {
    "slideshow": {
     "slide_type": "fragment"
    }
   },
   "source": [
    "## Workshops July 6th"
   ]
  },
  {
   "cell_type": "markdown",
   "metadata": {
    "slideshow": {
     "slide_type": "fragment"
    }
   },
   "source": [
    "## July 7th - 8th talks"
   ]
  },
  {
   "cell_type": "markdown",
   "metadata": {
    "slideshow": {
     "slide_type": "fragment"
    }
   },
   "source": [
    "## Call for Proposals IS NOW OPEN\n",
    "### https://berlin.pydata.org/cfp"
   ]
  },
  {
   "cell_type": "markdown",
   "metadata": {
    "slideshow": {
     "slide_type": "slide"
    }
   },
   "source": [
    "## would you like to volunteer at the conference?\n",
    "## _we are looking for reviewers from the community_"
   ]
  },
  {
   "cell_type": "markdown",
   "metadata": {
    "slideshow": {
     "slide_type": "slide"
    }
   },
   "source": [
    "<center>\n",
    "<img src=./assets/PyDataLogoBerlin_BearOnly_Logo4x3.png width=600 style=\"display:inline\"/>\n",
    "<h2>https://berlin.pydata.org</h2>\n",
    "<h2>@pydataberlin</h2>\n",
    "</center>"
   ]
  }
 ],
 "metadata": {
  "celltoolbar": "Slideshow",
  "kernelspec": {
   "display_name": "Python 3",
   "language": "python",
   "name": "python3"
  },
  "language_info": {
   "codemirror_mode": {
    "name": "ipython",
    "version": 3
   },
   "file_extension": ".py",
   "mimetype": "text/x-python",
   "name": "python",
   "nbconvert_exporter": "python",
   "pygments_lexer": "ipython3",
   "version": "3.6.1"
  }
 },
 "nbformat": 4,
 "nbformat_minor": 1
}
