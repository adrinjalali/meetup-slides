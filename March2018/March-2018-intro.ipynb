{
 "cells": [
  {
   "cell_type": "markdown",
   "metadata": {
    "slideshow": {
     "slide_type": "slide"
    }
   },
   "source": [
    "<center>\n",
    "<img src=./assets/PyDataLogoBerlin_BearOnly_Logo4x3.png width=600 style=\"display:inline\"/>\n",
    "<h2>https://berlin.pydata.org</h2>\n",
    "<h2>@pydataberlin</h2>\n",
    "</center>"
   ]
  },
  {
   "cell_type": "markdown",
   "metadata": {
    "slideshow": {
     "slide_type": "slide"
    }
   },
   "source": [
    "# Our Speakers\n",
    "\n",
    "## Nicolas Guénon - ML life outside of image and text: using Google Cloud for customer churn prediction\n",
    "\n",
    "## Tal Perry - The Joys of character level NLP\n",
    "\n",
    "# Lightning Talk\n",
    "\n",
    "## Dinu Gherman - 3D plotting using Ipyvolume\n"
   ]
  },
  {
   "cell_type": "markdown",
   "metadata": {
    "slideshow": {
     "slide_type": "slide"
    }
   },
   "source": [
    "# PyData Berlin 2018\n",
    "\n",
    "## Conference July 6-8"
   ]
  },
  {
   "cell_type": "markdown",
   "metadata": {
    "slideshow": {
     "slide_type": "fragment"
    }
   },
   "source": [
    "## Workshops July 6th"
   ]
  },
  {
   "cell_type": "markdown",
   "metadata": {
    "slideshow": {
     "slide_type": "fragment"
    }
   },
   "source": [
    "## Talks July 7th - 8th"
   ]
  },
  {
   "cell_type": "markdown",
   "metadata": {
    "slideshow": {
     "slide_type": "fragment"
    }
   },
   "source": [
    "## Venue: Charité Campus, Berlin-Mitte"
   ]
  },
  {
   "cell_type": "markdown",
   "metadata": {
    "slideshow": {
     "slide_type": "fragment"
    }
   },
   "source": [
    "## Call for Proposals IS NOW OPEN\n",
    "### Deadline: March 31, 2018\n",
    "### https://berlin.pydata.org/cfp"
   ]
  },
  {
   "cell_type": "markdown",
   "metadata": {
    "slideshow": {
     "slide_type": "slide"
    }
   },
   "source": [
    "# PyData Berlin Diversity Mentoring Program\n",
    "* Special support for **first-time speakers** and submissions by **underrepresented members of the community**\n",
    "* Get a mentor who offers advice and feedback on talk ideas or questions about the conference\n",
    "* Come to our **CfP mentoring meetup on Saturday, March 24**!\n",
    "    * 10:00 AM to 4:00 PM\n",
    "    * Digital:Lab Volkswagen (Stralauer Allee 7)\n",
    "* Check our Diversity Program page, where you can also apply to be a mentor or mentee: https://berlin.pydata.org/blog/pydata-berlin-2018-diversity-programs/"
   ]
  },
  {
   "cell_type": "markdown",
   "metadata": {
    "slideshow": {
     "slide_type": "slide"
    }
   },
   "source": [
    "# Diversity Scholarship Program\n",
    "* Scholarships in the form of **diversity tickets** (free or reduced price) as well as **travel scholarships**\n",
    "* Focus on the local community (within the EU)"
   ]
  },
  {
   "cell_type": "markdown",
   "metadata": {
    "slideshow": {
     "slide_type": "fragment"
    }
   },
   "source": [
    "#### You want to attend the conference, but are worried it might be a financial burden?\n",
    "* Fill out the application form -- tell us why you want to join and how the scholarship would benefit both the conference and your work (or studies)."
   ]
  },
  {
   "cell_type": "markdown",
   "metadata": {
    "slideshow": {
     "slide_type": "fragment"
    }
   },
   "source": [
    "#### This year our scholarship is 100% supported by sponsors\n",
    "* Do you work somewhere that wants to help increase diversity in data science?\n",
    "* Show your support by becoming a sponsor! \n",
    "* For details on sponsorship, please email **info@pydata.berlin**"
   ]
  },
  {
   "cell_type": "markdown",
   "metadata": {
    "slideshow": {
     "slide_type": "slide"
    }
   },
   "source": [
    "## would you like to volunteer at the conference?\n",
    "## _we are looking for reviewers from the community_\n",
    "\n",
    "\n",
    "\n",
    "### E-mail us at _info@pydata.berlin_"
   ]
  },
  {
   "cell_type": "markdown",
   "metadata": {
    "slideshow": {
     "slide_type": "slide"
    }
   },
   "source": [
    "# Prototype Fund - **47.500€** for your ideas, apply now!"
   ]
  },
  {
   "cell_type": "markdown",
   "metadata": {
    "slideshow": {
     "slide_type": "fragment"
    }
   },
   "source": [
    "* Funds Open Source tools that **foster digital sovereignty, safety and trust**\n",
    "* Also projects from the fields of **civic tech**, **data literacy**, **software infrastructure** and **data security** \n",
    "* Especially **women** and other **underrepresented groups in tech** are encouraged to apply\n"
   ]
  },
  {
   "cell_type": "markdown",
   "metadata": {
    "slideshow": {
     "slide_type": "fragment"
    }
   },
   "source": [
    "#### Important Facts\n",
    "* **Grants**: Up to 47.500€ per project\n",
    "* **Application**: Answer 7 short questions about your project\n",
    "* **Who’s eligible**: Developers and small teams that have their residence in Germany. Projects must be Open Source.\n",
    "* **Deadline**: 31st of March"
   ]
  },
  {
   "cell_type": "markdown",
   "metadata": {
    "slideshow": {
     "slide_type": "fragment"
    }
   },
   "source": [
    "#### More information: \n",
    "* www.prototypefund.de\n",
    "* @prototypefund\n",
    "* bewerbung@prototypefund.de"
   ]
  },
  {
   "cell_type": "markdown",
   "metadata": {
    "slideshow": {
     "slide_type": "slide"
    }
   },
   "source": [
    "<center>\n",
    "<img src=./assets/PyDataLogoBerlin_BearOnly_Logo4x3.png width=600 style=\"display:inline\"/>\n",
    "<h2>https://berlin.pydata.org</h2>\n",
    "<h2>@pydataberlin</h2>\n",
    "</center>"
   ]
  }
 ],
 "metadata": {
  "celltoolbar": "Slideshow",
  "kernelspec": {
   "display_name": "Python 3",
   "language": "python",
   "name": "python3"
  },
  "language_info": {
   "codemirror_mode": {
    "name": "ipython",
    "version": 3
   },
   "file_extension": ".py",
   "mimetype": "text/x-python",
   "name": "python",
   "nbconvert_exporter": "python",
   "pygments_lexer": "ipython3",
   "version": "3.6.1"
  }
 },
 "nbformat": 4,
 "nbformat_minor": 1
}
