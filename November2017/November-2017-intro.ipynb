{
 "cells": [
  {
   "cell_type": "markdown",
   "metadata": {
    "slideshow": {
     "slide_type": "slide"
    }
   },
   "source": [
    "<center>\n",
    "<img src=./assets/PyDataLogoBerlin_BearOnly_Logo4x3.png width=400 style=\"display:inline\"/>\n",
    "</center>\n",
    "\n",
    "## Gradient boosting in practice: a deep dive into xgboost (Jaroslaw Szymczak)\n",
    "## Rouster & Datapoints - Python Tools for Enjoyable Data Science (Andreas Dewes)\n",
    "\n",
    "\n",
    "# @pydataberlin"
   ]
  },
  {
   "cell_type": "markdown",
   "metadata": {
    "slideshow": {
     "slide_type": "slide"
    }
   },
   "source": [
    "## Checkout PyData Warsaw\n",
    "### 19-20 October\n",
    "### More info: https://pydata.org/warsaw2017/"
   ]
  },
  {
   "cell_type": "markdown",
   "metadata": {
    "slideshow": {
     "slide_type": "slide"
    }
   },
   "source": [
    "### PyConDE conference in Karlsruhe\n",
    "\n",
    "### 25-27 October\n",
    "\n",
    "### More info: https://de.pycon.org/"
   ]
  },
  {
   "cell_type": "markdown",
   "metadata": {
    "slideshow": {
     "slide_type": "slide"
    }
   },
   "source": [
    "<center>\n",
    "<img src=./assets/groups.png style=\"display:inline\"/>\n",
    "</center>"
   ]
  },
  {
   "cell_type": "markdown",
   "metadata": {
    "slideshow": {
     "slide_type": "slide"
    }
   },
   "source": [
    "<center>\n",
    "<img src=./assets/PyData_Berlin.png style=\"display:inline\"/>\n",
    "</center>"
   ]
  },
  {
   "cell_type": "markdown",
   "metadata": {
    "slideshow": {
     "slide_type": "slide"
    }
   },
   "source": [
    "<center>\n",
    "<img src=./assets/PyDataLogoBerlin_BearOnly_Logo4x3.png width=400 style=\"display:inline\"/>\n",
    "</center>\n",
    "\n",
    "# Thank you OLX!\n",
    "# @pydataberlin"
   ]
  },
  {
   "cell_type": "code",
   "execution_count": null,
   "metadata": {},
   "outputs": [],
   "source": []
  }
 ],
 "metadata": {
  "celltoolbar": "Slideshow",
  "kernelspec": {
   "display_name": "Python 3",
   "language": "python",
   "name": "python3"
  },
  "language_info": {
   "codemirror_mode": {
    "name": "ipython",
    "version": 3
   },
   "file_extension": ".py",
   "mimetype": "text/x-python",
   "name": "python",
   "nbconvert_exporter": "python",
   "pygments_lexer": "ipython3",
   "version": "3.6.1"
  }
 },
 "nbformat": 4,
 "nbformat_minor": 1
}
